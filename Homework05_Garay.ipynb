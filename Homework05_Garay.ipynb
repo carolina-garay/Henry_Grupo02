{
  "cells": [
    {
      "cell_type": "markdown",
      "metadata": {
        "id": "OAe4s5xbIVfL"
      },
      "source": [
        "# Práctica Clase 5"
      ]
    },
    {
      "cell_type": "markdown",
      "metadata": {
        "id": "iad6dGB4IVfR"
      },
      "source": [
        "1) Implementar un juego, que consista en apilar números enteros del 1 al 20, de forma aleatoria, para lo cual debe usarse una estructura de Pila.\n",
        "Luego, el usuario debe elegir un número de veces en que se va a quitar elementos de la pila, los cuales, sumados entre sí, no deben superar el valor de 50.\n",
        "El usuario pierde si la suma supera ese valor. Si no lo supera, gana, pero su calificación será 10 menos el número elementos que falten quitar para todavía no superar 50.\n",
        "El programa debe informar si perdió, y si ganó, con qué calificación lo hizo.\n",
        "\n",
        "Consideraciones:<br>\n",
        "a. Se puede usar la función input() para obtener una entrada de teclado.<br>\n",
        "b. Se puede usar la el modulo random para obtener valores aleatorios."
      ]
    },
    {
      "cell_type": "code",
      "execution_count": 2,
      "metadata": {
        "id": "9nAHRRrTIVfT",
        "colab": {
          "base_uri": "https://localhost:8080/"
        },
        "outputId": "950e55db-d25f-42c2-f52b-3b432bd96103"
      },
      "outputs": [
        {
          "output_type": "stream",
          "name": "stdout",
          "text": [
            "¿Cuántas veces quieres quitar elementos de la pila? 10\n",
            "Has perdido\n"
          ]
        }
      ],
      "source": [
        "\n",
        "# prompt:\n",
        "\n",
        "import random\n",
        "\n",
        "# Creamos la pila\n",
        "pila = []\n",
        "\n",
        "# Apilamos los números del 1 al 20\n",
        "for i in range(1, 21):\n",
        "  pila.append(i)\n",
        "\n",
        "# Barajamos la pila\n",
        "random.shuffle(pila)\n",
        "\n",
        "# Pedimos al usuario el número de veces que va a quitar elementos de la pila\n",
        "num_veces = int(input(\"¿Cuántas veces quieres quitar elementos de la pila? \"))\n",
        "\n",
        "# Sumamos los elementos quitados de la pila\n",
        "suma = 0\n",
        "for i in range(num_veces):\n",
        "  elemento = pila.pop()\n",
        "  suma += elemento\n",
        "\n",
        "# Comprobamos si el usuario ha perdido\n",
        "if suma > 50:\n",
        "  print(\"Has perdido\")\n",
        "else:\n",
        "  # Calculamos la calificación del usuario\n",
        "  calificacion = 10 - (50 - suma)\n",
        "  print(\"Has ganado con una calificación de\", calificacion)\n"
      ]
    },
    {
      "cell_type": "markdown",
      "metadata": {
        "id": "tr5nks_DIVfU"
      },
      "source": [
        "2) Implementar un juego donde constas de 2 jarras, de capacidad 5 y 3 litros respectivamente, y debes colocar 4 litros en la jarra de 5L.\n",
        "Las opciones posibles son:\n",
        "* Llenar la jarra de 3 litros\n",
        "* Llenar la jarra de 5 litros\n",
        "* Vaciar la jarra de 3 litros\n",
        "* Vaciar la jarra de 5 litros\n",
        "* Verter el contenido de la jarra de 3 litros en la de 5 litros\n",
        "* Verter el contenido de la jarra de 5 litros en la de 3 litros\n",
        "\n",
        "Utilizar una clase para resolver."
      ]
    },
    {
      "cell_type": "code",
      "source": [
        "# prompt:\n",
        "\n",
        "class Jarras:\n",
        "  def __init__(self):\n",
        "    self.jarra_3 = 0\n",
        "    self.jarra_5 = 0\n",
        "\n",
        "  def llenar_jarra_3(self):\n",
        "    self.jarra_3 = 3\n",
        "\n",
        "  def llenar_jarra_5(self):\n",
        "    self.jarra_5 = 5\n",
        "\n",
        "  def vaciar_jarra_3(self):\n",
        "    self.jarra_3 = 0\n",
        "\n",
        "  def vaciar_jarra_5(self):\n",
        "    self.jarra_5 = 0\n",
        "\n",
        "  def verter_jarra_3_a_5(self):\n",
        "    if self.jarra_3 + self.jarra_5 <= 5:\n",
        "      self.jarra_5 += self.jarra_3\n",
        "      self.jarra_3 = 0\n",
        "    else:\n",
        "      self.jarra_3 -= (5 - self.jarra_5)\n",
        "      self.jarra_5 = 5\n",
        "\n",
        "  def verter_jarra_5_a_3(self):\n",
        "    if self.jarra_3 + self.jarra_5 <= 3:\n",
        "      self.jarra_3 += self.jarra_5\n",
        "      self.jarra_5 = 0\n",
        "    else:\n",
        "      self.jarra_5 -= (3 - self.jarra_3)\n",
        "      self.jarra_3 = 3\n",
        "\n",
        "  def get_jarra_3(self):\n",
        "    return self.jarra_3\n",
        "\n",
        "  def get_jarra_5(self):\n",
        "    return self.jarra_5\n",
        "\n",
        "jarras = Jarras()\n",
        "\n",
        "while jarras.get_jarra_5() != 4:\n",
        "  print(\"Jarra de 3 litros:\", jarras.get_jarra_3())\n",
        "  print(\"Jarra de 5 litros:\", jarras.get_jarra_5())\n",
        "  print(\"¿Qué operación quieres realizar?\")\n",
        "  print(\"1. Llenar la jarra de 3 litros\")\n",
        "  print(\"2. Llenar la jarra de 5 litros\")\n",
        "  print(\"3. Vaciar la jarra de 3 litros\")\n",
        "  print(\"4. Vaciar la jarra de 5 litros\")\n",
        "  print(\"5. Verter el contenido de la jarra de 3 litros en la de 5 litros\")\n",
        "  print(\"6. Verter el contenido de la jarra de 5 litros en la de 3 litros\")\n",
        "  opcion = int(input(\"Elige una opción: \"))\n",
        "\n",
        "  if opcion == 1:\n",
        "    jarras.llenar_jarra_3()\n",
        "  elif opcion == 2:\n",
        "    jarras.llenar_jarra_5()\n",
        "  elif opcion == 3:\n",
        "    jarras.vaciar_jarra_3()\n",
        "  elif opcion == 4:\n",
        "    jarras.vaciar_jarra_5()\n",
        "  elif opcion == 5:\n",
        "    jarras.verter_jarra_3_a_5()\n",
        "  elif opcion == 6:\n",
        "    jarras.verter_jarra_5_a_3()\n",
        "  else:\n",
        "    print(\"Opción no válida\")\n",
        "\n",
        "print(\"¡Has conseguido colocar 4 litros en la jarra de 5 litros!\")\n"
      ],
      "metadata": {
        "id": "N1dy2YfPcBZe"
      },
      "execution_count": null,
      "outputs": []
    }
  ],
  "metadata": {
    "kernelspec": {
      "display_name": "Python 3.11.3 64-bit",
      "language": "python",
      "name": "python3"
    },
    "language_info": {
      "codemirror_mode": {
        "name": "ipython",
        "version": 3
      },
      "file_extension": ".py",
      "mimetype": "text/x-python",
      "name": "python",
      "nbconvert_exporter": "python",
      "pygments_lexer": "ipython3",
      "version": "3.11.3"
    },
    "vscode": {
      "interpreter": {
        "hash": "52634da84371cba311ea128a5ea7cdc41ff074b781779e754b270ff9f8153cee"
      }
    },
    "colab": {
      "provenance": []
    }
  },
  "nbformat": 4,
  "nbformat_minor": 0
}